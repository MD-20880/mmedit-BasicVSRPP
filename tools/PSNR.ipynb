{
 "cells": [
  {
   "cell_type": "code",
   "execution_count": 7,
   "metadata": {},
   "outputs": [
    {
     "data": {
      "image/png": "[encoded data removed]",
      "text/plain": [
       "<Figure size 432x288 with 1 Axes>"
      ]
     },
     "metadata": {
      "needs_background": "light"
     },
     "output_type": "display_data"
    }
   ],
   "source": [
    "import json\n",
    "import matplotlib.pyplot as plt\n",
    "import numpy as np\n",
    "\n",
    "def loadjson(fp):\n",
    "    with open(fp,\"r\") as f:\n",
    "        info = json.load(f)\n",
    "    return info\n",
    "\n",
    "def calculate_avg(info,type = \"PSNR\"):\n",
    "    sum = 0\n",
    "    for i in info:\n",
    "        sum +=i[\"eval_result\"][type]\n",
    "    return sum/len(info)\n",
    "\n",
    "llnn = loadjson(r\"D:\\Test_Result\\BasicVSRPP_c64n7_4X_LLNN_20000iter\\result.json\")\n",
    "llwn = loadjson(r\"D:\\Test_Result\\BasicVSRPP_c64n7_4X_LLWN_20000iter\\result.json\")\n",
    "nlnn = loadjson(r\"D:\\Test_Result\\BasicVSRPP_c64n7_4X_NLNN_20000iter\\result.json\")\n",
    "nlwn = loadjson(r\"D:\\Test_Result\\BasicVSRPP_c64n7_4X_NLWN_20000iter\\result.json\")\n",
    "lst = [llnn,llwn,nlnn,nlwn]\n",
    "\n",
    "PSNR = []\n",
    "SSIM = []\n",
    "for i in lst:\n",
    "    \n",
    "    PSNR.append(calculate_avg(i)) \n",
    "    SSIM.append(calculate_avg(i,\"SSIM\"))\n",
    "\n",
    "\n",
    "\n",
    "plt.plot(PSNR,SSIM,\"ro\")\n",
    "plt.show()\n"
   ]
  }
 ],
 "metadata": {
  "kernelspec": {
   "display_name": "Python 3.10.4 ('Pytorch')",
   "language": "python",
   "name": "python3"
  },
  "language_info": {
   "codemirror_mode": {
    "name": "ipython",
    "version": 3
   },
   "file_extension": ".py",
   "mimetype": "text/x-python",
   "name": "python",
   "nbconvert_exporter": "python",
   "pygments_lexer": "ipython3",
   "version": "3.10.4"
  },
  "orig_nbformat": 4,
  "vscode": {
   "interpreter": {
    "hash": "f4b36df275751cb12a7f626591d69586427135b009b2de0004f8c0db5f9e0813"
   }
  }
 },
 "nbformat": 4,
 "nbformat_minor": 2
}
