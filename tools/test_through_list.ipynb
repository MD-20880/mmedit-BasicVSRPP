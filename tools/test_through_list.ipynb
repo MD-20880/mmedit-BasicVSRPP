{
 "cells": [
  {
   "cell_type": "code",
   "execution_count": 9,
   "metadata": {},
   "outputs": [],
   "source": [
    "# Copyright (c) OpenMMLab. All rights reserved.\n",
    "import os\n",
    "\n",
    "import mmcv\n",
    "import torch\n",
    "from mmcv import Config, DictAction\n",
    "from mmcv.parallel import MMDataParallel\n",
    "from mmcv.runner import get_dist_info, init_dist, load_checkpoint\n",
    "\n",
    "from mmedit.apis import multi_gpu_test, set_random_seed, single_gpu_test\n",
    "from mmedit.core.distributed_wrapper import DistributedDataParallelWrapper\n",
    "from mmedit.datasets import build_dataloader, build_dataset\n",
    "from mmedit.models import build_model\n",
    "from mmedit.utils import setup_multi_processes"
   ]
  },
  {
   "cell_type": "code",
   "execution_count": 10,
   "metadata": {},
   "outputs": [],
   "source": [
    "cfg_list = [\n",
    "    r\"D:\\mmediting\\configs\\LLLR\\basicvsr_plusplus_c64n7_8x1_600k_reds4_LLNN.py\",\n",
    "    r\"D:\\mmediting\\configs\\restorers\\basicvsr_plusplus\\basicvsr_plusplus_c64n7_8x1_600k_reds4.py\",\n",
    "    r\"D:\\mmediting\\configs\\LLLR\\basicvsr_plusplus_c64n7_8x1_600k_reds4_LLNN.py\",\n",
    "    r\"D:\\mmediting\\configs\\LLLR\\basicvsr_plusplus_c64n7_8x1_600k_reds4_2x_NLNN.py\",\n",
    "    r\"D:\\mmediting\\configs\\LLLR\\basicvsr_plusplus_c64n7_8x1_600k_reds4_LLNoNoise_VimeoResume_4x.py\"\n",
    "]\n",
    "\n",
    "PTHLIST = [\n",
    "    \n",
    "    # (r\"D:\\mmediting\\Trained\\BasicVSRPP_lowres_from_scratch\\iter_95000.pth\",\"BasicVSRPP_c64n7_FromScratch_95000iter\",cfg_list[1]),\n",
    "    # (r\"D:\\mmediting\\work_dirs\\basicvsr_plusplus_c64n7_8x1_600k_reds4_LLNN\\iter_297000.pth\",\"BasicVSRPP_c64n7_ResumeFrom300K_LLNN_297000iter\",cfg_list[0]),\n",
    "    # (r\"D:\\mmediting\\Trained\\BasicVSRPP_lowres_Resume\\iter_601800.pth\",\"BasicVSRPP_c64n7_ResumeFrom600K_601800iter\",cfg_list[1]),\n",
    "    # (r\"D:\\pretrained\\basicvsr_plusplus_c64n7_8x1_300k_vimeo90k_bi_20210305-4ef437e2.pth\",\"BasicVSRPP_c64n7_VimeoPretrained_300000iter\",cfg_list[1]),\n",
    "    # (r\"D:\\pretrained\\basicvsr_plusplus_c64n7_8x1_600k_reds4_20210217-db622b2f.pth\",\"BasicVSRPP_c64n7_REDSPretrained_600000iter\",cfg_list[1]),\n",
    "    # (r\"D:\\mmediting\\Trained\\BasicVSRPP_LLNN_vimeo_reume\\iter_338000.pth\",\"BasicVSRPP_c64n7_VimeoResume_338000\",cfg_list[1])\n",
    "    # (r\"D:\\mmediting\\Trained\\basicvsr_plusplus_c64n7_8x1_600k_reds4_2x_NLNN\\iter_140000.pth\",\"BasicVSRPP_c64n7_2X_FromScratch_140000iter\",cfg_list[2]),\n",
    "    # (r\"D:\\mmediting\\Trained\\basicvsr_plusplus_c64n7_8x1_600k_reds4_LLNoNoise_BlueCrystal\\iter_410000.pth\",\"BasicVSRPP_c64n7_4X_VimeoResume_LLNN_400000iter\",cfg_list[3]),\n",
    "    # (r\"D:\\mmediting\\Trained\\basicvsr_plusplus_c64n7_8x1_600k_reds4_NLNN\\iter_20000.pth\",\"BasicVSRPP_c64n7_4X_NLNN_20000iter\",cfg_list[2]),\n",
    "    # (r\"D:\\mmediting\\work_dirs\\basicvsr_plusplus_c64n7_8x1_600k_reds4_LLNN\\iter_20000.pth\",\"BasicVSRPP_c64n7_4X_LLNN_20000iter\",cfg_list[2]),\n",
    "    # (r\"D:\\mmediting\\work_dirs\\basicvsr_plusplus_c64n7_8x1_600k_reds4_LLWN\\iter_20000.pth\",\"BasicVSRPP_c64n7_4X_LLWN_20000iter\",cfg_list[2]),\n",
    "    # (r\"D:\\mmediting\\work_dirs\\basicvsr_plusplus_c64n7_8x1_600k_reds4_NLWN\\iter_20000.pth\",\"BasicVSRPP_c64n7_4X_NLWN_20000iter\",cfg_list[2])\n",
    "    (r\"D:\\mmediting\\Trained\\basicvsr_plusplus_c64n7_8x1_600k_reds4_LLNoNoise_BlueCrystal\\iter_490000.pth\",\"BasicVSRPP_c64n7_4X_LLNN_490000\",cfg_list[2])\n",
    "]"
   ]
  },
  {
   "cell_type": "code",
   "execution_count": 11,
   "metadata": {},
   "outputs": [],
   "source": [
    "def test(cfg_path,checkpoint,outpath,imgpath,dirpath):\n",
    "    cfg =Config.fromfile(cfg_path)\n",
    "    dataset = build_dataset(cfg.data.test)\n",
    "    loader_cfg = {\n",
    "        **dict((k, cfg.data[k]) for k in ['workers_per_gpu'] if k in cfg.data),\n",
    "        **dict(\n",
    "            samples_per_gpu=1,\n",
    "            drop_last=False,\n",
    "            shuffle=False,\n",
    "            dist=False),\n",
    "        **cfg.data.get('test_dataloader', {})\n",
    "    }\n",
    "    data_loader = build_dataloader(dataset,**loader_cfg)\n",
    "    model = build_model(cfg.model,train_cfg=None,test_cfg=cfg.test_cfg)\n",
    "    _ = load_checkpoint(model,checkpoint,map_location=\"cpu\")\n",
    "    model = MMDataParallel(model,device_ids=[0])\n",
    "    outputs = single_gpu_test(\n",
    "        model,\n",
    "        data_loader,\n",
    "        save_path=dirpath,\n",
    "        save_image=imgpath,\n",
    "    )\n",
    "\n",
    "\n",
    "    print('')\n",
    "    # print metrics\n",
    "    stats = dataset.evaluate(outputs)\n",
    "    for stat in stats:\n",
    "        print('Eval-{}: {}'.format(stat, stats[stat]))    \n",
    "\n",
    "    # save result pickle\n",
    "    print('writing results to {}'.format(outpath))\n",
    "    mmcv.dump(outputs, outpath)\n",
    "\n",
    "\n"
   ]
  },
  {
   "cell_type": "code",
   "execution_count": 12,
   "metadata": {},
   "outputs": [
    {
     "name": "stderr",
     "output_type": "stream",
     "text": [
      "2022-08-11 12:36:12,622 - mmedit - INFO - load checkpoint from http path: https://download.openmmlab.com/mmediting/restorers/basicvsr/spynet_20210409-c6c1bd09.pth\n"
     ]
    },
    {
     "name": "stdout",
     "output_type": "stream",
     "text": [
      "load checkpoint from local path: D:\\mmediting\\Trained\\basicvsr_plusplus_c64n7_8x1_600k_reds4_LLNoNoise_BlueCrystal\\iter_490000.pth\n",
      "[>>>>>>>>>>>>>>>>>>>>>>>>>>>>>>>>>] 4/4, 0.0 task/s, elapsed: 347s, ETA:     0s\n",
      "Eval-PSNR: 21.94535828316331\n",
      "Eval-SSIM: 0.7465269445619283\n",
      "writing results to D:\\Test_Result\\BasicVSRPP_c64n7_4X_LLNN_490000\\result.json\n"
     ]
    }
   ],
   "source": [
    "for pth in PTHLIST:\n",
    "    outpath = \"D:\\\\Test_Result\\\\\" + pth[1] + \"\\\\result.json\"\n",
    "    dirpath = \"D:\\\\Test_Result\\\\\" + pth[1]\n",
    "    imgpath = \"D:\\\\Test_Result\\\\\" + pth[1] + \"\\\\Image\"\n",
    "    test(pth[2],pth[0],outpath,imgpath,dirpath)\n",
    "    "
   ]
  }
 ],
 "metadata": {
  "kernelspec": {
   "display_name": "Python 3.10.4 ('Pytorch')",
   "language": "python",
   "name": "python3"
  },
  "language_info": {
   "codemirror_mode": {
    "name": "ipython",
    "version": 3
   },
   "file_extension": ".py",
   "mimetype": "text/x-python",
   "name": "python",
   "nbconvert_exporter": "python",
   "pygments_lexer": "ipython3",
   "version": "3.10.4"
  },
  "orig_nbformat": 4,
  "vscode": {
   "interpreter": {
    "hash": "f4b36df275751cb12a7f626591d69586427135b009b2de0004f8c0db5f9e0813"
   }
  }
 },
 "nbformat": 4,
 "nbformat_minor": 2
}
